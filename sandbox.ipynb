{
 "cells": [
  {
   "cell_type": "code",
   "execution_count": 2,
   "metadata": {},
   "outputs": [],
   "source": [
    "from sqlalchemy import MetaData, select, text, null, literal_column, union_all\n",
    "from sqlalchemy import types as sqltypes, func as sqlfunc"
   ]
  },
  {
   "cell_type": "code",
   "execution_count": 3,
   "metadata": {
    "scrolled": true
   },
   "outputs": [
    {
     "name": "stderr",
     "output_type": "stream",
     "text": [
      "WARNING:root:Loading w3c rdb2rdf DB D000-1table1column0rows ('One table, a column, zero rows, no primary key')\n",
      "WARNING:root:Loading w3c rdb2rdf DB D001-1table1column1row ('One table, one column, one row, no primary key')\n",
      "WARNING:root:Loading w3c rdb2rdf DB D002-1table2columns1row ('One table, two columns, one row, no primary key')\n",
      "WARNING:root:Loading w3c rdb2rdf DB D003-1table3columns1row ('One table, three columns, one row, no primary key')\n",
      "WARNING:root:Loading w3c rdb2rdf DB D004-1table2columns1row ('One table, two columns, one row, projection, no primary key')\n",
      "WARNING:root:Loading w3c rdb2rdf DB D005-1table3columns3rows2duplicates ('One table, three columns, three rows, two duplicate tuples, no primary key')\n",
      "WARNING:root:Loading w3c rdb2rdf DB D006-1table1primarykey1column1row ('One table, one primary key, one column, one row')\n",
      "WARNING:root:Loading w3c rdb2rdf DB D007-1table1primarykey2columns1row ('One table, one primary key, two columns, one row')\n",
      "WARNING:root:Loading w3c rdb2rdf DB D008-1table1compositeprimarykey3columns1row ('One table, a composite primary key, three columns, one row')\n",
      "WARNING:root:Loading w3c rdb2rdf DB D009-2tables1primarykey1foreignkey ('Two tables, a primary key, a foreign key')\n",
      "WARNING:root:Loading w3c rdb2rdf DB D010-1table1primarykey3colums3rows ('One table, a primary key, three columns, three rows')\n",
      "WARNING:root:Loading w3c rdb2rdf DB D011-M2MRelations ('Database with many to many relations')\n",
      "WARNING:root:Loading w3c rdb2rdf DB D012-2tables2duplicates0nulls ('Two tables, two duplicate records, zero nulls, no primary key')\n",
      "WARNING:root:Loading w3c rdb2rdf DB D013-1table1primarykey3columns2rows1nullvalue ('One table, one primary key, three columns, two rows, a null value')\n",
      "WARNING:root:Loading w3c rdb2rdf DB D014-3tables1primarykey1foreignkey ('3 tables, one primary key, one foreign key')\n",
      "WARNING:root:Loading w3c rdb2rdf DB D015-1table3columns1composityeprimarykey3rows2languages ('One table, three columns, one composite primary key, three rows, two languages')\n",
      "WARNING:root:Loading w3c rdb2rdf DB D016-1table1primarykey10columns3rowsSQLdatatypes ('One table, one primary key, ten columns, three rows with sql datatypes')\n",
      "WARNING:root:Loading w3c rdb2rdf DB D017-I18NnoSpecialChars ('I18N No Special Chars')\n",
      "WARNING:root:Loading w3c rdb2rdf DB D018-1table1primarykey2columns3rows ('One table, one primary key, two columns, three rows')\n",
      "WARNING:root:Loading w3c rdb2rdf DB D019-1table1primarykey3columns3rows ('One table, one primary key, three columns, three rows')\n",
      "WARNING:root:Loading w3c rdb2rdf DB D020-1table1column5rows ('One table, one column, five rows')\n",
      "WARNING:root:Loading w3c rdb2rdf DB D021-2tables2primarykeys1foreignkeyReferencesAllNulls ('Two tables, two primary keys, a foreign key, references all nulls')\n",
      "WARNING:root:Loading w3c rdb2rdf DB D022-2tables1primarykey1foreignkeyReferencesNoPrimaryKey ('Two tables, a primary key, a foreign key, references no primary keys')\n",
      "WARNING:root:Loading w3c rdb2rdf DB D023-2tables2primarykeys2foreignkeysReferencesToNon-primarykeys ('Two tables, two primary keys, two foreign keys, references to a key other than primary key')\n",
      "WARNING:root:Loading w3c rdb2rdf DB D024-2tables2primarykeys1foreignkeyToARowWithSomeNulls ('Two tables, two primary keys, a foreign key to a row with some NULLs in the key.')\n",
      "WARNING:root:Loading w3c rdb2rdf DB D025-3tables3primarykeys3foreignkeys ('Three tables, three primary keys, three foreign keys')\n"
     ]
    }
   ],
   "source": [
    "import sys  \n",
    "sys.path.insert(0, 'tests')\n",
    "\n",
    "from test_rdb2rdf import setup_engine, create_database"
   ]
  },
  {
   "cell_type": "code",
   "execution_count": 55,
   "metadata": {
    "scrolled": true
   },
   "outputs": [
    {
     "name": "stdout",
     "output_type": "stream",
     "text": [
      "(3, 31, 1)\n"
     ]
    },
    {
     "data": {
      "text/plain": [
       "FacadeDict({'Student': Table('Student', MetaData(), Column('Name', VARCHAR(length=50), table=<Student>), schema=None)})"
      ]
     },
     "execution_count": 55,
     "metadata": {},
     "output_type": "execute_result"
    }
   ],
   "source": [
    "from pathlib import Path\n",
    "from sqlalchemy import create_engine, engine as sqlengine\n",
    "db = setup_engine(\"sqlite\", echo=False)\n",
    "# db = setup_engine(\"duckdb\", echo=True)\n",
    "\n",
    "# path = Path('tests/rdb2rdf-ts/D008-1table1compositeprimarykey3columns1row')\n",
    "# path = Path('tests/rdb2rdf-ts/D009-2tables1primarykey1foreignkey')\n",
    "# path = Path('tests/rdb2rdf-ts/D000-1table1column0rows')\n",
    "path = Path('tests/rdb2rdf-ts/D001-1table1column1row')\n",
    "\n",
    "\n",
    "create_database(db, path, 'create.sql')\n",
    "print(db.dialect.server_version_info)\n",
    "\n",
    "\n",
    "metadata = MetaData()\n",
    "metadata.reflect(db)\n",
    "metadata.tables"
   ]
  },
  {
   "cell_type": "code",
   "execution_count": 101,
   "metadata": {
    "scrolled": true
   },
   "outputs": [
    {
     "name": "stderr",
     "output_type": "stream",
     "text": [
      "WARNING:root:\n",
      "@base <http://example.com/base/> .\n",
      "@prefix ns1: <http://www.w3.org/ns/r2rml#> .\n",
      "\n",
      "[] a ns1:TriplesMap ;\n",
      "    ns1:logicalTable [ ns1:tableName \"\\\"Student\\\"\" ] ;\n",
      "    ns1:predicateObjectMap [ ns1:objectMap [ ns1:column \"\\\"Name\\\"\" ] ;\n",
      "            ns1:predicate <Student#Name> ] ;\n",
      "    ns1:subjectMap [ ns1:class <Student> ;\n",
      "            ns1:termType ns1:BlankNode ] .\n",
      "\n",
      "\n"
     ]
    },
    {
     "data": {
      "text/plain": [
       "[<sqlalchemy.sql.elements.ColumnClause at 0x7fe9cb301e50; s>,\n",
       " <sqlalchemy.sql.elements.ColumnClause at 0x7fe9cb3016d0; p>,\n",
       " <sqlalchemy.sql.elements.ColumnClause at 0x7fe9cb3018e0; o>,\n",
       " <sqlalchemy.sql.elements.ColumnClause at 0x7fe9cb3019d0; g>]"
      ]
     },
     "metadata": {},
     "output_type": "display_data"
    },
    {
     "name": "stdout",
     "output_type": "stream",
     "text": [
      "[('_:Student#1', '<http://www.w3.org/1999/02/22-rdf-syntax-ns#type>', '<http://example.com/base/Student>', None), ('_:Student#1', '<http://example.com/base/Student#Name>', 'Venus', None)]\n"
     ]
    }
   ],
   "source": [
    "import rdflib\n",
    "from rdflib_r2r import R2RStore, R2RMapping\n",
    "from rdflib_r2r.r2r_store import ColForm, sql_pretty\n",
    "mapping = R2RMapping.from_db(db) # direct mapping\n",
    "store = R2RStore(db=db, mapping=mapping)\n",
    "\n",
    "pattern = (None, None, None)\n",
    "query, subforms = store.queryPattern(metadata, pattern)\n",
    "\n",
    "# print(sql_pretty(query))\n",
    "# with db.connect() as conn:\n",
    "#     display(list(conn.execute(query)))\n",
    "\n",
    "query = query.subquery()\n",
    "cols = getattr(query, \"exported_columns\", query.c)\n",
    "display(list(cols))\n",
    "onlycols = []\n",
    "for subform, colname in zip(subforms, \"spog\"):\n",
    "    colform = ColForm.from_subform(cols, *subform)\n",
    "    onlycols.append(colform.expr().label(colname))\n",
    "\n",
    "query = select(*onlycols)\n",
    "\n",
    "with db.connect() as conn:\n",
    "    print(list(conn.execute(query)))\n"
   ]
  },
  {
   "cell_type": "code",
   "execution_count": 86,
   "metadata": {},
   "outputs": [
    {
     "data": {
      "text/plain": [
       "[('_:Student#1', '<http://www.w3.org/1999/02/22-rdf-syntax-ns#type>', '<http://example.com/base/Student>', None)]"
      ]
     },
     "metadata": {},
     "output_type": "display_data"
    },
    {
     "data": {
      "text/plain": [
       "[('_:Student#1', '<http://www.w3.org/1999/02/22-rdf-syntax-ns#type>', '<http://example.com/base/Student>', None)]"
      ]
     },
     "metadata": {},
     "output_type": "display_data"
    }
   ],
   "source": [
    "with db.connect() as conn:\n",
    "#     result = conn.execute(text(\"\"\"SELECT rowid, Name FROM Student\"\"\"))\n",
    "    result = conn.execute(text(\"\"\"\n",
    "    SELECT CAST(:param_1 AS VARCHAR) || CAST(CAST(\"Student\".rowid AS VARCHAR) AS VARCHAR) AS s, \n",
    "           '<http://www.w3.org/1999/02/22-rdf-syntax-ns#type>' AS p, \n",
    "           '<http://example.com/base/Student>' AS o, \n",
    "           NULL AS g\n",
    "    FROM \"Student\"\n",
    "    \"\"\"), {\"param_1\":\"_:Student#\"})\n",
    "    display(result.all())\n",
    "    \n",
    "    result = conn.execute(text(\"\"\"\n",
    "    SELECT CAST('_:Student#' AS VARCHAR) || CAST(CAST(\"Student\".rowid AS VARCHAR) AS VARCHAR) AS s,\n",
    "       '<http://www.w3.org/1999/02/22-rdf-syntax-ns#type>' AS p,\n",
    "       '<http://example.com/base/Student>' AS o,\n",
    "       NULL AS g\n",
    "    FROM \"Student\"\n",
    "    \"\"\"))\n",
    "    display(result.all())"
   ]
  },
  {
   "cell_type": "markdown",
   "metadata": {},
   "source": [
    "# DuckDB stuff"
   ]
  },
  {
   "cell_type": "code",
   "execution_count": 101,
   "metadata": {},
   "outputs": [
    {
     "name": "stdout",
     "output_type": "stream",
     "text": [
      "[(0, 'ID', 'INTEGER', True, None, True), (1, 'Name', 'VARCHAR', True, None, True), (2, 'Sport', 'VARCHAR', False, None, False)]\n",
      "[]\n",
      "[('PRIMARY KEY(\"ID\", \"Name\")', [1, 0], 3, 'Sport'), ('NOT NULL', [0], 3, 'Sport'), ('NOT NULL', [1], 3, 'Sport'), ('PRIMARY KEY(\"ID\", \"Name\")', [1, 0], 2, 'Name'), ('NOT NULL', [0], 2, 'Name'), ('NOT NULL', [1], 2, 'Name'), ('PRIMARY KEY(\"ID\", \"Name\")', [1, 0], 1, 'ID'), ('NOT NULL', [0], 1, 'ID'), ('NOT NULL', [1], 1, 'ID')]\n"
     ]
    }
   ],
   "source": [
    "import duckdb\n",
    "conn = duckdb.connect(database=':memory:', read_only=False)\n",
    "conn.execute(\"\"\"\n",
    "CREATE TABLE \"Student\" (\n",
    "    \"ID\" integer,\n",
    "    \"Name\" varchar(50),\n",
    "    \"Sport\" varchar (50),\n",
    "    PRIMARY KEY (\"ID\",\"Name\")\n",
    ");\n",
    "INSERT INTO \"Student\" (\"ID\", \"Name\",\"Sport\") VALUES(10,'Venus Williams','Tennis');\n",
    "\"\"\")\n",
    "print(conn.execute(\"PRAGMA table_info('Student');\", (), None).fetchall())\n",
    "print(conn.execute(\"select * from duckdb_indexes\", (), None).fetchall())\n",
    "print(conn.execute(\"\"\"\n",
    "SELECT\n",
    "                cons.conname as name,\n",
    "                cons.conkey as key,\n",
    "                a.attnum as col_num,\n",
    "                a.attname as col_name\n",
    "            FROM\n",
    "                pg_catalog.pg_constraint cons\n",
    "                join pg_attribute a\n",
    "                  on cons.conrelid = a.attrelid\n",
    "\"\"\", (), None).fetchall())"
   ]
  },
  {
   "cell_type": "code",
   "execution_count": null,
   "metadata": {},
   "outputs": [],
   "source": []
  }
 ],
 "metadata": {
  "kernelspec": {
   "display_name": "Python 3",
   "language": "python",
   "name": "python3"
  },
  "language_info": {
   "codemirror_mode": {
    "name": "ipython",
    "version": 3
   },
   "file_extension": ".py",
   "mimetype": "text/x-python",
   "name": "python",
   "nbconvert_exporter": "python",
   "pygments_lexer": "ipython3",
   "version": "3.8.2"
  }
 },
 "nbformat": 4,
 "nbformat_minor": 4
}
